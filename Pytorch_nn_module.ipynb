{
  "nbformat": 4,
  "nbformat_minor": 0,
  "metadata": {
    "colab": {
      "provenance": [],
      "authorship_tag": "ABX9TyM6UfT+ztK25QnS71XxZUVo",
      "include_colab_link": true
    },
    "kernelspec": {
      "name": "python3",
      "display_name": "Python 3"
    },
    "language_info": {
      "name": "python"
    }
  },
  "cells": [
    {
      "cell_type": "markdown",
      "metadata": {
        "id": "view-in-github",
        "colab_type": "text"
      },
      "source": [
        "<a href=\"https://colab.research.google.com/github/sudheervobili/Pytorch/blob/main/Pytorch_nn_module.ipynb\" target=\"_parent\"><img src=\"https://colab.research.google.com/assets/colab-badge.svg\" alt=\"Open In Colab\"/></a>"
      ]
    },
    {
      "cell_type": "markdown",
      "source": [
        "**Neural network with single layer**"
      ],
      "metadata": {
        "id": "uUhjFXmDKsji"
      }
    },
    {
      "cell_type": "code",
      "execution_count": null,
      "metadata": {
        "id": "4O9-0CNNYO_T"
      },
      "outputs": [],
      "source": [
        "#create model class\n",
        "import torch\n",
        "import torch.nn as nn\n",
        "\n",
        "class Model(nn.Module):\n",
        "  def __init__(self,num_features):\n",
        "    super().__init__()\n",
        "    self.linear = nn.Linear(num_features,1)\n",
        "    self.sigmoid = nn.Sigmoid()\n",
        "  def forward(self,x):\n",
        "    out = self.linear(x)\n",
        "    out = self.sigmoid(out)\n",
        "    return out"
      ]
    },
    {
      "cell_type": "code",
      "source": [
        "features = torch.rand(10,5)\n",
        "print(features.shape[1])"
      ],
      "metadata": {
        "colab": {
          "base_uri": "https://localhost:8080/"
        },
        "id": "tNwNCvYJHAJS",
        "outputId": "7dd2da06-9e07-4ab8-9341-9693cb6a6d04"
      },
      "execution_count": null,
      "outputs": [
        {
          "output_type": "stream",
          "name": "stdout",
          "text": [
            "5\n"
          ]
        }
      ]
    },
    {
      "cell_type": "code",
      "source": [
        "model = Model(features.shape[1])\n",
        "model(features)"
      ],
      "metadata": {
        "colab": {
          "base_uri": "https://localhost:8080/"
        },
        "id": "9O9QUcZMH6eF",
        "outputId": "e78140ae-b9a0-4be3-a380-135361896952"
      },
      "execution_count": null,
      "outputs": [
        {
          "output_type": "execute_result",
          "data": {
            "text/plain": [
              "tensor([[0.3668],\n",
              "        [0.3113],\n",
              "        [0.3667],\n",
              "        [0.3353],\n",
              "        [0.2848],\n",
              "        [0.4131],\n",
              "        [0.3571],\n",
              "        [0.3773],\n",
              "        [0.4068],\n",
              "        [0.3372]], grad_fn=<SigmoidBackward0>)"
            ]
          },
          "metadata": {},
          "execution_count": 7
        }
      ]
    },
    {
      "cell_type": "code",
      "source": [
        "#show model weights and bias\n",
        "print(model.linear.weight)\n",
        "print(model.linear.bias)"
      ],
      "metadata": {
        "colab": {
          "base_uri": "https://localhost:8080/"
        },
        "id": "TOOhta1NIjIG",
        "outputId": "3a091d98-c423-4bcb-f337-6bb76689e52f"
      },
      "execution_count": null,
      "outputs": [
        {
          "output_type": "stream",
          "name": "stdout",
          "text": [
            "Parameter containing:\n",
            "tensor([[-0.4301, -0.4243, -0.0153, -0.4007, -0.2762]], requires_grad=True)\n",
            "Parameter containing:\n",
            "tensor([0.3659], requires_grad=True)\n"
          ]
        }
      ]
    },
    {
      "cell_type": "code",
      "source": [
        "! pip install torchinfo"
      ],
      "metadata": {
        "colab": {
          "base_uri": "https://localhost:8080/"
        },
        "id": "kyXZcP2bI1bf",
        "outputId": "7470e326-ed97-40a6-9570-9ba084a5e873"
      },
      "execution_count": null,
      "outputs": [
        {
          "output_type": "stream",
          "name": "stdout",
          "text": [
            "Collecting torchinfo\n",
            "  Downloading torchinfo-1.8.0-py3-none-any.whl.metadata (21 kB)\n",
            "Downloading torchinfo-1.8.0-py3-none-any.whl (23 kB)\n",
            "Installing collected packages: torchinfo\n",
            "Successfully installed torchinfo-1.8.0\n"
          ]
        }
      ]
    },
    {
      "cell_type": "code",
      "source": [
        "from torch import nn\n",
        "from torchinfo import summary\n",
        "summary(model,input_size=(10,5))"
      ],
      "metadata": {
        "colab": {
          "base_uri": "https://localhost:8080/"
        },
        "id": "9amj1tkKJxzC",
        "outputId": "79e88eac-e492-4c84-cc70-c46d757e37e2"
      },
      "execution_count": null,
      "outputs": [
        {
          "output_type": "execute_result",
          "data": {
            "text/plain": [
              "==========================================================================================\n",
              "Layer (type:depth-idx)                   Output Shape              Param #\n",
              "==========================================================================================\n",
              "Model                                    [10, 1]                   --\n",
              "├─Linear: 1-1                            [10, 1]                   6\n",
              "├─Sigmoid: 1-2                           [10, 1]                   --\n",
              "==========================================================================================\n",
              "Total params: 6\n",
              "Trainable params: 6\n",
              "Non-trainable params: 0\n",
              "Total mult-adds (Units.MEGABYTES): 0.00\n",
              "==========================================================================================\n",
              "Input size (MB): 0.00\n",
              "Forward/backward pass size (MB): 0.00\n",
              "Params size (MB): 0.00\n",
              "Estimated Total Size (MB): 0.00\n",
              "=========================================================================================="
            ]
          },
          "metadata": {},
          "execution_count": 10
        }
      ]
    },
    {
      "cell_type": "markdown",
      "source": [
        "**Neural network with Multiple hidden layers**"
      ],
      "metadata": {
        "id": "p8eLd_apK6ds"
      }
    },
    {
      "cell_type": "code",
      "source": [
        "#create model class\n",
        "import torch\n",
        "import torch.nn as nn\n",
        "\n",
        "class Model1(nn.Module):\n",
        "  def __init__(self,num_features):\n",
        "    super().__init__()\n",
        "    self.linear1 = nn.Linear(num_features,5)\n",
        "    self.relu = nn.ReLU()\n",
        "    self.linear2 = nn.Linear(5,4)\n",
        "    self.relu = nn.ReLU()\n",
        "    self.linear3 = nn.Linear(4,1)\n",
        "    self.sigmoid = nn.Sigmoid()\n",
        "  def forward(self,x):\n",
        "    out = self.linear1(x)\n",
        "    out = self.relu(out)\n",
        "    out = self.linear2(out)\n",
        "    out = self.relu(out)\n",
        "    out = self.linear3(out)\n",
        "    out = self.sigmoid(out)\n",
        "    return out"
      ],
      "metadata": {
        "id": "RMXChWPrKNdn"
      },
      "execution_count": null,
      "outputs": []
    },
    {
      "cell_type": "code",
      "source": [
        "model1= Model1(features.shape[1])\n",
        "model1(features)"
      ],
      "metadata": {
        "colab": {
          "base_uri": "https://localhost:8080/"
        },
        "id": "AlboQrtMLeMh",
        "outputId": "6a94d84e-a3f4-4826-980b-fcef0a13d200"
      },
      "execution_count": null,
      "outputs": [
        {
          "output_type": "execute_result",
          "data": {
            "text/plain": [
              "tensor([[0.5804],\n",
              "        [0.5910],\n",
              "        [0.5813],\n",
              "        [0.5893],\n",
              "        [0.5815],\n",
              "        [0.5882],\n",
              "        [0.5872],\n",
              "        [0.5807],\n",
              "        [0.5831],\n",
              "        [0.5749]], grad_fn=<SigmoidBackward0>)"
            ]
          },
          "metadata": {},
          "execution_count": 16
        }
      ]
    },
    {
      "cell_type": "code",
      "source": [
        "#show model weights and bias\n",
        "print(model1.linear3.weight)\n",
        "print(model1.linear3.bias)"
      ],
      "metadata": {
        "colab": {
          "base_uri": "https://localhost:8080/"
        },
        "id": "ReydgWIuLnGY",
        "outputId": "cd8b36d7-a9ec-44ce-cd0f-52662cc6d700"
      },
      "execution_count": null,
      "outputs": [
        {
          "output_type": "stream",
          "name": "stdout",
          "text": [
            "Parameter containing:\n",
            "tensor([[-0.1029, -0.0783,  0.3907, -0.3682]], requires_grad=True)\n",
            "Parameter containing:\n",
            "tensor([0.3048], requires_grad=True)\n"
          ]
        }
      ]
    },
    {
      "cell_type": "code",
      "source": [
        "from torch import nn\n",
        "from torchinfo import summary\n",
        "summary(model1,input_size=(10,5))"
      ],
      "metadata": {
        "colab": {
          "base_uri": "https://localhost:8080/"
        },
        "id": "IbFBvG_zL6yE",
        "outputId": "23c384a3-e5f2-4c6f-a772-dc1005282100"
      },
      "execution_count": null,
      "outputs": [
        {
          "output_type": "execute_result",
          "data": {
            "text/plain": [
              "==========================================================================================\n",
              "Layer (type:depth-idx)                   Output Shape              Param #\n",
              "==========================================================================================\n",
              "Model1                                   [10, 1]                   --\n",
              "├─Linear: 1-1                            [10, 5]                   30\n",
              "├─ReLU: 1-2                              [10, 5]                   --\n",
              "├─Linear: 1-3                            [10, 4]                   24\n",
              "├─ReLU: 1-4                              [10, 4]                   --\n",
              "├─Linear: 1-5                            [10, 1]                   5\n",
              "├─Sigmoid: 1-6                           [10, 1]                   --\n",
              "==========================================================================================\n",
              "Total params: 59\n",
              "Trainable params: 59\n",
              "Non-trainable params: 0\n",
              "Total mult-adds (Units.MEGABYTES): 0.00\n",
              "==========================================================================================\n",
              "Input size (MB): 0.00\n",
              "Forward/backward pass size (MB): 0.00\n",
              "Params size (MB): 0.00\n",
              "Estimated Total Size (MB): 0.00\n",
              "=========================================================================================="
            ]
          },
          "metadata": {},
          "execution_count": 21
        }
      ]
    },
    {
      "cell_type": "code",
      "source": [
        "import torch\n",
        "import torch.nn as nn\n",
        "\n",
        "class Model3(nn.Module):\n",
        "    def __init__(self, num_features):\n",
        "        super().__init__()\n",
        "        self.model = nn.Sequential(\n",
        "            nn.Linear(num_features, 5),\n",
        "            nn.ReLU(),\n",
        "            nn.Linear(5, 4),\n",
        "            nn.ReLU(),\n",
        "            nn.Linear(4, 1),\n",
        "            nn.Sigmoid()\n",
        "        )\n",
        "\n",
        "    def forward(self, x):\n",
        "        return self.model(x)\n"
      ],
      "metadata": {
        "id": "3yeOq7bbMTNR"
      },
      "execution_count": null,
      "outputs": []
    },
    {
      "cell_type": "code",
      "source": [
        "model3 = Model3(features.shape[1])\n",
        "model3(features)"
      ],
      "metadata": {
        "colab": {
          "base_uri": "https://localhost:8080/"
        },
        "id": "0tPtk4dRNY_Y",
        "outputId": "5d800899-2082-432b-d9cf-6f0d8f48d4fe"
      },
      "execution_count": null,
      "outputs": [
        {
          "output_type": "execute_result",
          "data": {
            "text/plain": [
              "tensor([[0.5350],\n",
              "        [0.5268],\n",
              "        [0.5239],\n",
              "        [0.5270],\n",
              "        [0.5337],\n",
              "        [0.5216],\n",
              "        [0.5317],\n",
              "        [0.5350],\n",
              "        [0.5237],\n",
              "        [0.5236]], grad_fn=<SigmoidBackward0>)"
            ]
          },
          "metadata": {},
          "execution_count": 24
        }
      ]
    },
    {
      "cell_type": "code",
      "source": [],
      "metadata": {
        "id": "GsCK8QvfNdP4"
      },
      "execution_count": null,
      "outputs": []
    }
  ]
}