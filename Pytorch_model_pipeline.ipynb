{
  "nbformat": 4,
  "nbformat_minor": 0,
  "metadata": {
    "colab": {
      "provenance": [],
      "authorship_tag": "ABX9TyP1ZtGSsQhzSI2DPxfEjZxg",
      "include_colab_link": true
    },
    "kernelspec": {
      "name": "python3",
      "display_name": "Python 3"
    },
    "language_info": {
      "name": "python"
    }
  },
  "cells": [
    {
      "cell_type": "markdown",
      "metadata": {
        "id": "view-in-github",
        "colab_type": "text"
      },
      "source": [
        "<a href=\"https://colab.research.google.com/github/sudheervobili/Pytorch/blob/main/Pytorch_model_pipeline.ipynb\" target=\"_parent\"><img src=\"https://colab.research.google.com/assets/colab-badge.svg\" alt=\"Open In Colab\"/></a>"
      ]
    },
    {
      "cell_type": "code",
      "execution_count": 1,
      "metadata": {
        "colab": {
          "base_uri": "https://localhost:8080/"
        },
        "id": "k5el374V21Bh",
        "outputId": "10bef671-bcf7-40bc-da16-9bb03d8f320f"
      },
      "outputs": [
        {
          "output_type": "stream",
          "name": "stdout",
          "text": [
            "Epoch [50/500], Loss: 0.6692\n",
            "Epoch [100/500], Loss: 0.6421\n",
            "Epoch [150/500], Loss: 0.6371\n",
            "Epoch [200/500], Loss: 0.6365\n",
            "Epoch [250/500], Loss: 0.6365\n",
            "Epoch [300/500], Loss: 0.6365\n",
            "Epoch [350/500], Loss: 0.6365\n",
            "Epoch [400/500], Loss: 0.6365\n",
            "Epoch [450/500], Loss: 0.6365\n",
            "Epoch [500/500], Loss: 0.6365\n",
            "\n",
            "Test Predictions: [1. 1.]\n",
            "Test Accuracy: 50.0 %\n"
          ]
        }
      ],
      "source": [
        "import torch\n",
        "import torch.nn as nn\n",
        "import torch.optim as optim\n",
        "from sklearn.model_selection import train_test_split\n",
        "from sklearn.preprocessing import StandardScaler\n",
        "import numpy as np\n",
        "\n",
        "# Dummy Dataset: [Income, Loan Amount, Credit Score] --> Approved\n",
        "data = np.array([\n",
        "    [50000, 200000, 700, 1],\n",
        "    [30000, 150000, 650, 0],\n",
        "    [40000, 120000, 670, 1],\n",
        "    [25000, 100000, 600, 0],\n",
        "    [60000, 220000, 720, 1],\n",
        "    [45000, 140000, 690, 1],\n",
        "    [35000, 130000, 660, 0],\n",
        "    [55000, 210000, 710, 1]\n",
        "], dtype=np.float32)\n",
        "\n",
        "X = data[:, :-1]  # Features\n",
        "y = data[:, -1:]  # Target\n",
        "\n",
        "# Feature Scaling (Very important for neural networks)\n",
        "scaler = StandardScaler()\n",
        "X_scaled = scaler.fit_transform(X)\n",
        "\n",
        "# Train-Test Split\n",
        "X_train, X_test, y_train, y_test = train_test_split(X_scaled, y, test_size=0.25, random_state=42)\n",
        "\n",
        "# Convert to PyTorch tensors\n",
        "X_train_tensor = torch.tensor(X_train, dtype=torch.float32)\n",
        "y_train_tensor = torch.tensor(y_train, dtype=torch.float32)\n",
        "X_test_tensor = torch.tensor(X_test, dtype=torch.float32)\n",
        "y_test_tensor = torch.tensor(y_test, dtype=torch.float32)\n",
        "\n",
        "# Model using nn.Sequential\n",
        "class HomeLoanModel(nn.Module):\n",
        "    def __init__(self, num_features):\n",
        "        super().__init__()\n",
        "        self.model = nn.Sequential(\n",
        "            nn.Linear(num_features, 5),\n",
        "            nn.ReLU(),\n",
        "            nn.Linear(5, 4),\n",
        "            nn.ReLU(),\n",
        "            nn.Linear(4, 1),\n",
        "            nn.Sigmoid()\n",
        "        )\n",
        "\n",
        "    def forward(self, x):\n",
        "        return self.model(x)\n",
        "\n",
        "# Initialize model\n",
        "model = HomeLoanModel(num_features=X_train.shape[1])\n",
        "\n",
        "# Loss & Optimizer\n",
        "criterion = nn.BCELoss()  # Binary classification\n",
        "optimizer = optim.Adam(model.parameters(), lr=0.01)\n",
        "\n",
        "# Training Loop\n",
        "epochs = 500\n",
        "for epoch in range(epochs):\n",
        "    optimizer.zero_grad()\n",
        "    outputs = model(X_train_tensor)\n",
        "    loss = criterion(outputs, y_train_tensor)\n",
        "    loss.backward()\n",
        "    optimizer.step()\n",
        "\n",
        "    if (epoch+1) % 50 == 0:\n",
        "        print(f'Epoch [{epoch+1}/{epochs}], Loss: {loss.item():.4f}')\n",
        "\n",
        "# Testing\n",
        "with torch.no_grad():\n",
        "    predictions = model(X_test_tensor)\n",
        "    predicted = (predictions > 0.5).float()\n",
        "    accuracy = (predicted.eq(y_test_tensor).sum().item()) / y_test_tensor.size(0)\n",
        "    print(\"\\nTest Predictions:\", predicted.numpy().flatten())\n",
        "    print(\"Test Accuracy:\", accuracy * 100, \"%\")\n"
      ]
    },
    {
      "cell_type": "code",
      "source": [],
      "metadata": {
        "id": "zFDCZRTTIdDU"
      },
      "execution_count": null,
      "outputs": []
    }
  ]
}